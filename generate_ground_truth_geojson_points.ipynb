{
 "cells": [
  {
   "cell_type": "code",
   "execution_count": 2,
   "id": "5d33c258-a1e0-426e-80c8-6d06d5edfa6e",
   "metadata": {},
   "outputs": [],
   "source": [
    "import os, glob\n",
    "from tqdm import tqdm\n",
    "import copy\n",
    "import time\n",
    "import numpy as np\n",
    "import matplotlib.pyplot as plt\n",
    "import pandas as pd\n",
    "import geopandas as gpd\n",
    "import xarray as xr\n",
    "import rioxarray\n",
    "import json\n",
    "from shapely.geometry import Point"
   ]
  },
  {
   "cell_type": "code",
   "execution_count": 3,
   "id": "cb816757-c13c-46ab-9c44-209c8295e588",
   "metadata": {},
   "outputs": [
    {
     "name": "stdout",
     "output_type": "stream",
     "text": [
      "   POINT_LAT  POINT_LON  THICKNESS    color\n",
      "0  46.958875   9.387544       10.5  #341b51\n",
      "1  46.958842   9.387574        9.0  #32184a\n",
      "2  46.958875   9.387574       10.5  #341b51\n",
      "3  46.958842   9.387605        8.0  #32184a\n",
      "4  46.958875   9.387605       11.0  #341b51\n",
      "1.0 2739.624991861979\n"
     ]
    }
   ],
   "source": [
    "MAX_VAL_MAPBOX = 800\n",
    "cmap = plt.get_cmap('turbo', 256)\n",
    "#ground_truth_data_file = f\"/media/maffe/nvme/iceboost_train_dataset/iceboost_train_20250212_hmineq1.0_tmin20050000_mean_grid_100.csv\"\n",
    "#ground_truth_data_file = f\"/media/maffe/nvme/iceboost_train_dataset/iceboost_train_20250318_hmineq1.0_tmin20050000_mean_grid_100.csv\"\n",
    "#ground_truth_data_file = f\"/media/maffe/nvme/iceboost_train_dataset/iceboost_train_20250407_hmineq1.0_tmin20050000_mean_grid_100.csv\"\n",
    "#ground_truth_data_file = f\"/media/maffe/nvme/iceboost_train_dataset/iceboost_train_20250411_hmineq1.0_tmin20050000_mean_grid_100.csv\"\n",
    "#ground_truth_data_file = f\"/media/maffe/nvme/iceboost_train_dataset/iceboost_train_20250425_hmineq1.0_tmin20050000_mean_grid_100.csv\"\n",
    "#ground_truth_data_file = f\"/media/maffe/nvme/iceboost_train_dataset/iceboost_train_20250605_hmineq1.0_tmin20050000_mean_grid_100.csv\"\n",
    "ground_truth_data_file = f\"/media/maffe/nvme/iceboost_train_dataset/iceboost_train_20250910_hmineq1.0_tmin20050000_mean_grid_100.csv\"\n",
    "\n",
    "dir_path = os.path.dirname(ground_truth_data_file)\n",
    "file_name = os.path.basename(ground_truth_data_file)\n",
    "\n",
    "ground_truth_df = pd.read_csv(f\"{dir_path}/{file_name}\")\n",
    "ground_truth_df = ground_truth_df[['POINT_LAT', 'POINT_LON', 'THICKNESS']]\n",
    "\n",
    "ground_truth_df['color'] = np.clip(ground_truth_df['THICKNESS'], 0, MAX_VAL_MAPBOX)\n",
    "# Convert thickness to RGB colors (remove alpha channel)\n",
    "colors = cmap(ground_truth_df['color'].values / MAX_VAL_MAPBOX)[:, :3] * 255\n",
    "# Convert RGB to HEX\n",
    "ground_truth_df['color'] = ['#{:02x}{:02x}{:02x}'.format(int(r), int(g), int(b)) for r, g, b in colors]\n",
    "\n",
    "# Check result\n",
    "print(ground_truth_df.head())\n",
    "print(ground_truth_df['THICKNESS'].min(), ground_truth_df['THICKNESS'].max())"
   ]
  },
  {
   "cell_type": "code",
   "execution_count": 4,
   "id": "36c34331-71c5-4ce3-8771-cf425af21e7b",
   "metadata": {},
   "outputs": [],
   "source": [
    "# Create GeoDataFrame with points efficiently\n",
    "gdf = gpd.GeoDataFrame(\n",
    "    ground_truth_df, \n",
    "    geometry=gpd.points_from_xy(ground_truth_df.POINT_LON, ground_truth_df.POINT_LAT),\n",
    "    crs=\"EPSG:4326\"\n",
    ")"
   ]
  },
  {
   "cell_type": "code",
   "execution_count": 5,
   "id": "c678c0ba-811e-4f5e-a85d-498b918231ac",
   "metadata": {},
   "outputs": [
    {
     "data": {
      "text/html": [
       "<div>\n",
       "<style scoped>\n",
       "    .dataframe tbody tr th:only-of-type {\n",
       "        vertical-align: middle;\n",
       "    }\n",
       "\n",
       "    .dataframe tbody tr th {\n",
       "        vertical-align: top;\n",
       "    }\n",
       "\n",
       "    .dataframe thead th {\n",
       "        text-align: right;\n",
       "    }\n",
       "</style>\n",
       "<table border=\"1\" class=\"dataframe\">\n",
       "  <thead>\n",
       "    <tr style=\"text-align: right;\">\n",
       "      <th></th>\n",
       "      <th>POINT_LAT</th>\n",
       "      <th>POINT_LON</th>\n",
       "      <th>THICKNESS</th>\n",
       "      <th>color</th>\n",
       "      <th>geometry</th>\n",
       "    </tr>\n",
       "  </thead>\n",
       "  <tbody>\n",
       "    <tr>\n",
       "      <th>0</th>\n",
       "      <td>46.958875</td>\n",
       "      <td>9.387544</td>\n",
       "      <td>10.5</td>\n",
       "      <td>#341b51</td>\n",
       "      <td>POINT (9.38754 46.95888)</td>\n",
       "    </tr>\n",
       "    <tr>\n",
       "      <th>1</th>\n",
       "      <td>46.958842</td>\n",
       "      <td>9.387574</td>\n",
       "      <td>9.0</td>\n",
       "      <td>#32184a</td>\n",
       "      <td>POINT (9.38757 46.95884)</td>\n",
       "    </tr>\n",
       "    <tr>\n",
       "      <th>2</th>\n",
       "      <td>46.958875</td>\n",
       "      <td>9.387574</td>\n",
       "      <td>10.5</td>\n",
       "      <td>#341b51</td>\n",
       "      <td>POINT (9.38757 46.95888)</td>\n",
       "    </tr>\n",
       "    <tr>\n",
       "      <th>3</th>\n",
       "      <td>46.958842</td>\n",
       "      <td>9.387605</td>\n",
       "      <td>8.0</td>\n",
       "      <td>#32184a</td>\n",
       "      <td>POINT (9.38761 46.95884)</td>\n",
       "    </tr>\n",
       "    <tr>\n",
       "      <th>4</th>\n",
       "      <td>46.958875</td>\n",
       "      <td>9.387605</td>\n",
       "      <td>11.0</td>\n",
       "      <td>#341b51</td>\n",
       "      <td>POINT (9.38761 46.95888)</td>\n",
       "    </tr>\n",
       "  </tbody>\n",
       "</table>\n",
       "</div>"
      ],
      "text/plain": [
       "   POINT_LAT  POINT_LON  THICKNESS    color                  geometry\n",
       "0  46.958875   9.387544       10.5  #341b51  POINT (9.38754 46.95888)\n",
       "1  46.958842   9.387574        9.0  #32184a  POINT (9.38757 46.95884)\n",
       "2  46.958875   9.387574       10.5  #341b51  POINT (9.38757 46.95888)\n",
       "3  46.958842   9.387605        8.0  #32184a  POINT (9.38761 46.95884)\n",
       "4  46.958875   9.387605       11.0  #341b51  POINT (9.38761 46.95888)"
      ]
     },
     "execution_count": 5,
     "metadata": {},
     "output_type": "execute_result"
    }
   ],
   "source": [
    "gdf.head()"
   ]
  },
  {
   "cell_type": "code",
   "execution_count": 6,
   "id": "712b4343-ea5f-45f9-9708-86e3a3ac9700",
   "metadata": {},
   "outputs": [],
   "source": [
    "# Convert to GeoJSON format\n",
    "geojson_data = {\n",
    "    \"type\": \"FeatureCollection\",\n",
    "    \"features\": [\n",
    "        {\n",
    "            \"type\": \"Feature\",\n",
    "            \"geometry\": row[\"geometry\"].__geo_interface__,  # Convert Shapely Point to GeoJSON\n",
    "            \"properties\": {\n",
    "                \"thickness\": row[\"THICKNESS\"],\n",
    "                \"color\": row[\"color\"]\n",
    "            }\n",
    "        }\n",
    "        for _, row in gdf.iterrows()\n",
    "    ]\n",
    "}"
   ]
  },
  {
   "cell_type": "code",
   "execution_count": 7,
   "id": "9f2f62ed-eafa-4dd8-a47a-5219fbce5ad5",
   "metadata": {},
   "outputs": [
    {
     "name": "stdout",
     "output_type": "stream",
     "text": [
      "GeoJSON saved: iceboost_train_20250910_hmineq1.0_tmin20050000_mean_grid_100.geojson\n"
     ]
    }
   ],
   "source": [
    "# Save to GeoJSON\n",
    "geojson_file = file_name.replace(\".csv\", \".geojson\")\n",
    "with open(f\"/home/maffe/PycharmProjects/iceboost_webapp/{geojson_file}\", \"w\") as f:\n",
    "    json.dump(geojson_data, f)\n",
    "\n",
    "print(f\"GeoJSON saved: {geojson_file}\")"
   ]
  },
  {
   "cell_type": "code",
   "execution_count": null,
   "id": "e43d8a42-e953-4579-a201-9229cc8f5605",
   "metadata": {},
   "outputs": [],
   "source": []
  }
 ],
 "metadata": {
  "kernelspec": {
   "display_name": "Python 3 (ipykernel)",
   "language": "python",
   "name": "python3"
  },
  "language_info": {
   "codemirror_mode": {
    "name": "ipython",
    "version": 3
   },
   "file_extension": ".py",
   "mimetype": "text/x-python",
   "name": "python",
   "nbconvert_exporter": "python",
   "pygments_lexer": "ipython3",
   "version": "3.12.7"
  }
 },
 "nbformat": 4,
 "nbformat_minor": 5
}
