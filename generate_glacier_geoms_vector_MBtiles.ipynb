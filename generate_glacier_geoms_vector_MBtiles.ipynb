{
 "cells": [
  {
   "cell_type": "code",
   "execution_count": 16,
   "id": "fde30682-ecca-48a7-9b7a-4cafe0410385",
   "metadata": {},
   "outputs": [],
   "source": [
    "import os, glob\n",
    "import subprocess\n",
    "import tempfile\n",
    "from tqdm import tqdm\n",
    "import copy\n",
    "import time\n",
    "import numpy as np\n",
    "import matplotlib.pyplot as plt\n",
    "import pandas as pd\n",
    "import geopandas as gpd\n",
    "import xarray as xr\n",
    "import rioxarray\n",
    "from rioxarray import merge\n",
    "from osgeo import gdal\n",
    "from joblib import Parallel, delayed\n",
    "from oggm import utils\n",
    "import gzip\n",
    "import json\n",
    "import topojson\n",
    "import shapely\n",
    "from shapely.geometry import Polygon, MultiPolygon\n",
    "from shapely.wkt import loads, dumps"
   ]
  },
  {
   "cell_type": "code",
   "execution_count": 27,
   "id": "70a5b40f-625d-42b5-9fcb-3e1d30e3a9af",
   "metadata": {},
   "outputs": [],
   "source": [
    "# RGI\n",
    "#version = '62'\n",
    "version = '70G'\n",
    "if version == '62':\n",
    "    name_rgi_id = 'RGIId'\n",
    "elif version == '70G':\n",
    "    name_rgi_id = 'rgi_id'\n",
    "else: raise ValueError('Version is wrong. Ciao')\n",
    "OUT_PATH = f\"/home/maffe/PycharmProjects/iceboost_webapp/tiles/RGI{version}/geometries\""
   ]
  },
  {
   "cell_type": "code",
   "execution_count": 28,
   "id": "dfab1765-1f93-4c1c-9cce-73c14836a03b",
   "metadata": {},
   "outputs": [
    {
     "name": "stdout",
     "output_type": "stream",
     "text": [
      "1 /home/maffe/OGGM/rgi/RGIV70G/RGI2000-v7.0-G-01_alaska/RGI2000-v7.0-G-01_alaska.shp\n",
      "2 /home/maffe/OGGM/rgi/RGIV70G/RGI2000-v7.0-G-02_western_canada_usa/RGI2000-v7.0-G-02_western_canada_usa.shp\n",
      "3 /home/maffe/OGGM/rgi/RGIV70G/RGI2000-v7.0-G-03_arctic_canada_north/RGI2000-v7.0-G-03_arctic_canada_north.shp\n",
      "4 /home/maffe/OGGM/rgi/RGIV70G/RGI2000-v7.0-G-04_arctic_canada_south/RGI2000-v7.0-G-04_arctic_canada_south.shp\n",
      "5 /home/maffe/OGGM/rgi/RGIV70G/RGI2000-v7.0-G-05_greenland_periphery/RGI2000-v7.0-G-05_greenland_periphery.shp\n",
      "6 /home/maffe/OGGM/rgi/RGIV70G/RGI2000-v7.0-G-06_iceland/RGI2000-v7.0-G-06_iceland.shp\n",
      "7 /home/maffe/OGGM/rgi/RGIV70G/RGI2000-v7.0-G-07_svalbard_jan_mayen/RGI2000-v7.0-G-07_svalbard_jan_mayen.shp\n",
      "8 /home/maffe/OGGM/rgi/RGIV70G/RGI2000-v7.0-G-08_scandinavia/RGI2000-v7.0-G-08_scandinavia.shp\n",
      "9 /home/maffe/OGGM/rgi/RGIV70G/RGI2000-v7.0-G-09_russian_arctic/RGI2000-v7.0-G-09_russian_arctic.shp\n",
      "10 /home/maffe/OGGM/rgi/RGIV70G/RGI2000-v7.0-G-10_north_asia/RGI2000-v7.0-G-10_north_asia.shp\n",
      "11 /home/maffe/OGGM/rgi/RGIV70G/RGI2000-v7.0-G-11_central_europe/RGI2000-v7.0-G-11_central_europe.shp\n",
      "12 /home/maffe/OGGM/rgi/RGIV70G/RGI2000-v7.0-G-12_caucasus_middle_east/RGI2000-v7.0-G-12_caucasus_middle_east.shp\n",
      "13 /home/maffe/OGGM/rgi/RGIV70G/RGI2000-v7.0-G-13_central_asia/RGI2000-v7.0-G-13_central_asia.shp\n",
      "14 /home/maffe/OGGM/rgi/RGIV70G/RGI2000-v7.0-G-14_south_asia_west/RGI2000-v7.0-G-14_south_asia_west.shp\n",
      "15 /home/maffe/OGGM/rgi/RGIV70G/RGI2000-v7.0-G-15_south_asia_east/RGI2000-v7.0-G-15_south_asia_east.shp\n",
      "16 /home/maffe/OGGM/rgi/RGIV70G/RGI2000-v7.0-G-16_low_latitudes/RGI2000-v7.0-G-16_low_latitudes.shp\n",
      "17 /home/maffe/OGGM/rgi/RGIV70G/RGI2000-v7.0-G-17_southern_andes/RGI2000-v7.0-G-17_southern_andes.shp\n",
      "18 /home/maffe/OGGM/rgi/RGIV70G/RGI2000-v7.0-G-18_new_zealand/RGI2000-v7.0-G-18_new_zealand.shp\n",
      "19 /home/maffe/OGGM/rgi/RGIV70G/RGI2000-v7.0-G-19_subantarctic_antarctic_islands/RGI2000-v7.0-G-19_subantarctic_antarctic_islands.shp\n",
      "Combining geodataframes\n",
      "Done.\n",
      "Creating geojson\n",
      "/home/maffe/PycharmProjects/iceboost_webapp/tiles/RGI70G/geometries\n",
      "/home/maffe/PycharmProjects/iceboost_webapp/tiles/RGI70G/geometries/all_geometries_rgi70G_cleaned.geojson\n"
     ]
    },
    {
     "name": "stderr",
     "output_type": "stream",
     "text": [
      "/home/maffe/PycharmProjects/iceboost_webapp/tiles/RGI70G/geometries/all_geometries_rgi70G_cleaned.geojson:6: ignoring dimensions beyond two\n",
      "In JSON object [-155.90416,67.41608,0.0]\n",
      "In JSON object {\"type\":\"Feature\",\"properties\":{\"rgi_id\":\"RGI2000-v7.0-G-01-00001\"},\"geometry\":{\"type\":\"Polygon\",\"coordinates\":[[[-155.90416,67.41608,0.0],[-155.90345,67.41584,0.0],[-155.90295,67.41566,0.0],[-155.90235,67.41546,0.0],[-155.90175,67.41528,0.0],[-155.9015,67.41517,0.0],[-155.90115,67.41496,0.0],[-155.90111,67.41491,0.0],[-155.90097,67.4147,0.0],[-155.90096,67.41446,0.0],[-155.901,67.41426,0.0],[-155.90127,67.41409,0.0],[-155.90163,67.41396,0.0],[-155.90208,67.41388,0.0],[-155.90281,67.41376,0.0...\n",
      "274531 features, 203310348 bytes of geometry, 1604928 bytes of separate metadata, 6863283 bytes of string pool\n",
      "Choosing a maxzoom of -z6 for features about 7975 feet (2431 meters) apart\n",
      "Choosing a maxzoom of -z10 for resolution of about 323 feet (98 meters) within features\n",
      "tile 5/22/12 size is 555097 with detail 12, >500000    \n",
      "  99.9%  10/83/299   \n"
     ]
    },
    {
     "name": "stdout",
     "output_type": "stream",
     "text": [
      "Deleted:  /home/maffe/PycharmProjects/iceboost_webapp/tiles/RGI70G/geometries/all_geometries_rgi70G_cleaned.geojson\n"
     ]
    }
   ],
   "source": [
    "list_gdfs = []\n",
    "\n",
    "for rgi in range(1,20):\n",
    "\n",
    "    FILE_SHP_RGI = utils.get_rgi_region_file(region=f\"{rgi:02d}\", version=version)\n",
    "    print(rgi, FILE_SHP_RGI)\n",
    "\n",
    "    gdf = gpd.read_file(FILE_SHP_RGI)\n",
    "\n",
    "    gdf = gdf[[name_rgi_id, 'geometry']]\n",
    "\n",
    "    if name_rgi_id == 'RGIId':\n",
    "        gdf.rename(columns={'RGIId': 'rgi_id'}, inplace=True)\n",
    "\n",
    "    gdf_rounded = gdf.copy()\n",
    "\n",
    "    gdf_rounded['geometry'] = gdf_rounded['geometry'].apply(lambda geom: shapely.set_precision(geom, 0.00001))\n",
    "\n",
    "    list_gdfs.append(gdf_rounded)\n",
    "\n",
    "print('Combining geodataframes')\n",
    "combined_gdf = pd.concat(list_gdfs, ignore_index=True)\n",
    "print('Done.')\n",
    "\n",
    "print('Creating geojson')\n",
    "geojson_file = f\"{OUT_PATH}/all_geometries_rgi{version}_cleaned.geojson\"\n",
    "print(OUT_PATH)\n",
    "print(geojson_file)\n",
    "\n",
    "combined_gdf.to_file(geojson_file, driver='GeoJSON')\n",
    "\n",
    "tippecanoe_path_out = f\"/home/maffe/PycharmProjects/iceboost_webapp/tiles/RGI{version}/geometries/\"\n",
    "tippecanoe_file_out = f\"geoms_rgi{version}.mbtiles\"\n",
    "tippecanoe_out_layer_name = f\"geoms_rgi{version}\"\n",
    "tippecanoe_out = tippecanoe_path_out + tippecanoe_file_out\n",
    "\n",
    "# Construct the Tippecanoe command\n",
    "tippecanoe_command = f\"tippecanoe -o {tippecanoe_out} -l {tippecanoe_out_layer_name} -zg {geojson_file} --force --preserve-input-order\"\n",
    "\n",
    "# Run Tippecanoe command via subprocess\n",
    "subprocess.run(tippecanoe_command, shell=True, check=True)\n",
    "\n",
    "# remove geojson_file\n",
    "os.remove(geojson_file)\n",
    "print(\"Deleted: \", geojson_file)"
   ]
  },
  {
   "cell_type": "code",
   "execution_count": 15,
   "id": "a793d7ce-2734-4a72-9365-c6e0f96cfcb9",
   "metadata": {},
   "outputs": [],
   "source": [
    "# Antarctic Peninsula"
   ]
  },
  {
   "cell_type": "code",
   "execution_count": 14,
   "id": "21ee521c-fd08-46b7-a3d7-867c9c0a117d",
   "metadata": {},
   "outputs": [
    {
     "name": "stdout",
     "output_type": "stream",
     "text": [
      "Creating geojson\n",
      "/media/maffe/nvme/Antarctic_peninsula_geometries/final_product/\n",
      "/media/maffe/nvme/Antarctic_peninsula_geometries/final_product/peninsula_cleaned.geojson\n"
     ]
    },
    {
     "name": "stderr",
     "output_type": "stream",
     "text": [
      "/media/maffe/nvme/Antarctic_peninsula_geometries/final_product/peninsula_cleaned.geojson:6: ignoring dimensions beyond two\n",
      "In JSON object [-65.53776,-69.10115,0.0]\n",
      "In JSON object {\"type\":\"Feature\",\"properties\":{},\"geometry\":{\"type\":\"Polygon\",\"coordinates\":[[[-65.53776,-69.10115,0.0],[-65.13818,-69.57178,0.0],[-65.12908,-69.97426,0.0],[-65.13762,-69.97499,0.0],[-65.14062,-69.97524,0.0],[-65.15664,-69.97497,0.0],[-65.18098,-69.97296,0.0],[-65.20441,-69.97105,0.0],[-65.21229,-69.971,0.0],[-65.22921,-69.97089,0.0],[-65.24442,-69.97176,0.0],[-65.26654,-69.97526,0.0],[-65.30536,-69.9824,0.0],[-65.3194,-69.98461,0.0],[-65.32319,-69.98521,0.0],[-65.33975,-69.9873,0.0],[-65.35...\n",
      "23 features, 1999786 bytes of geometry, 39 bytes of separate metadata, 0 bytes of string pool\n",
      "Choosing a maxzoom of -z0 for features about 826875 feet (252032 meters) apart\n",
      "Choosing a maxzoom of -z9 for resolution of about 533 feet (162 meters) within features\n",
      "  59.9%  5/10/23  \r"
     ]
    },
    {
     "name": "stdout",
     "output_type": "stream",
     "text": [
      "Deleted:  /media/maffe/nvme/Antarctic_peninsula_geometries/final_product/peninsula_cleaned.geojson\n"
     ]
    },
    {
     "name": "stderr",
     "output_type": "stream",
     "text": [
      "  99.9%  9/162/382  \n"
     ]
    }
   ],
   "source": [
    "PENINSULA_PATH = f\"/media/maffe/nvme/Antarctic_peninsula_geometries/final_product/\"\n",
    "\n",
    "peninsula = gpd.read_file(PENINSULA_PATH+\"antarctic_peninsula.shp\")\n",
    "\n",
    "peninsula = peninsula[['geometry']]\n",
    "\n",
    "peninsula_rounded = peninsula.copy()\n",
    "\n",
    "peninsula_rounded['geometry'] = peninsula_rounded['geometry'].apply(lambda geom: shapely.set_precision(geom, 0.00001))\n",
    "\n",
    "print('Creating geojson')\n",
    "geojson_file = f\"{PENINSULA_PATH}peninsula_cleaned.geojson\"\n",
    "print(PENINSULA_PATH)\n",
    "print(geojson_file)\n",
    "\n",
    "peninsula_rounded.to_file(geojson_file, driver='GeoJSON')\n",
    "\n",
    "tippecanoe_path_out = f\"{PENINSULA_PATH}\"\n",
    "tippecanoe_file_out = f\"peninsula.mbtiles\"\n",
    "tippecanoe_out_layer_name = f\"peninsula\"\n",
    "tippecanoe_out = tippecanoe_path_out + tippecanoe_file_out\n",
    "\n",
    "# Construct the Tippecanoe command\n",
    "tippecanoe_command = f\"tippecanoe -o {tippecanoe_out} -l {tippecanoe_out_layer_name} -zg {geojson_file} --force\"\n",
    "\n",
    "# Run Tippecanoe command via subprocess\n",
    "subprocess.run(tippecanoe_command, shell=True, check=True)\n",
    "\n",
    "# remove geojson_file\n",
    "os.remove(geojson_file)\n",
    "print(\"Deleted: \", geojson_file)"
   ]
  },
  {
   "cell_type": "code",
   "execution_count": null,
   "id": "c9faa2b2-2bc8-4c29-9283-4a7579b24830",
   "metadata": {},
   "outputs": [],
   "source": []
  }
 ],
 "metadata": {
  "kernelspec": {
   "display_name": "Python 3 (ipykernel)",
   "language": "python",
   "name": "python3"
  },
  "language_info": {
   "codemirror_mode": {
    "name": "ipython",
    "version": 3
   },
   "file_extension": ".py",
   "mimetype": "text/x-python",
   "name": "python",
   "nbconvert_exporter": "python",
   "pygments_lexer": "ipython3",
   "version": "3.12.7"
  }
 },
 "nbformat": 4,
 "nbformat_minor": 5
}
