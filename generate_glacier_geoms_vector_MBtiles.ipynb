{
 "cells": [
  {
   "cell_type": "code",
   "execution_count": 117,
   "id": "fde30682-ecca-48a7-9b7a-4cafe0410385",
   "metadata": {},
   "outputs": [],
   "source": [
    "import os, glob\n",
    "import subprocess\n",
    "import tempfile\n",
    "from tqdm import tqdm\n",
    "import copy\n",
    "import time\n",
    "import numpy as np\n",
    "import matplotlib.pyplot as plt\n",
    "import pandas as pd\n",
    "import geopandas as gpd\n",
    "import xarray as xr\n",
    "import rioxarray\n",
    "from rioxarray import merge\n",
    "from osgeo import gdal\n",
    "from joblib import Parallel, delayed\n",
    "from oggm import utils\n",
    "import gzip\n",
    "import json\n",
    "import topojson\n",
    "import shapely\n",
    "from shapely.geometry import Polygon, MultiPolygon\n",
    "from shapely.wkt import loads, dumps"
   ]
  },
  {
   "cell_type": "code",
   "execution_count": 114,
   "id": "c4027bfb-6c5a-4d2e-a4b5-cd69649d17d9",
   "metadata": {},
   "outputs": [],
   "source": [
    "# Define a function to round the coordinates of geometries\n",
    "def extract_polygons(geometry, decimals=5):\n",
    "    \"\"\"Extract all polygons from a geometry, treating every ring (exterior + interior) as separate polygons.\"\"\"\n",
    "    polygons = []\n",
    "\n",
    "    if isinstance(geometry, Polygon):\n",
    "        # Convert exterior ring into a separate polygon\n",
    "        exterior_coords = [(round(x, decimals), round(y, decimals)) for x, y in geometry.exterior.coords]\n",
    "        polygons.append(Polygon(exterior_coords))\n",
    "\n",
    "        # Convert each interior ring (hole) into a separate polygon\n",
    "        for interior in geometry.interiors:\n",
    "            interior_coords = [(round(x, decimals), round(y, decimals)) for x, y in interior.coords]\n",
    "            if len(interior_coords) > 3:  # Ensure valid polygon\n",
    "                polygons.append(Polygon(interior_coords))\n",
    "\n",
    "    elif isinstance(geometry, MultiPolygon):\n",
    "        for poly in geometry.geoms:\n",
    "            polygons.extend(extract_polygons(poly, decimals))\n",
    "\n",
    "    return polygons"
   ]
  },
  {
   "cell_type": "code",
   "execution_count": 123,
   "id": "71bcc9f2-e78b-40df-b220-5719501ec723",
   "metadata": {},
   "outputs": [
    {
     "name": "stdout",
     "output_type": "stream",
     "text": [
      "1 /home/maffe/OGGM/rgi/RGIV62/01_rgi62_Alaska/01_rgi62_Alaska.shp\n",
      "/home/maffe/PycharmProjects/iceboost_webapp/tiles/RGI62/geometries\n",
      "/home/maffe/PycharmProjects/iceboost_webapp/tiles/RGI62/geometries/01_rgi62_Alaska_cleaned.geojson\n"
     ]
    },
    {
     "name": "stderr",
     "output_type": "stream",
     "text": [
      "27108 features, 35224161 bytes of geometry, 27124 bytes of separate metadata, 0 bytes of string pool\n",
      "Choosing a maxzoom of -z5 for features about 11461 feet (3494 meters) apart\n",
      "Choosing a maxzoom of -z10 for resolution of about 253 feet (77 meters) within features\n",
      "  99.9%  10/113/296  \n"
     ]
    },
    {
     "name": "stdout",
     "output_type": "stream",
     "text": [
      "2 /home/maffe/OGGM/rgi/RGIV62/02_rgi62_WesternCanadaUS/02_rgi62_WesternCanadaUS.shp\n",
      "/home/maffe/PycharmProjects/iceboost_webapp/tiles/RGI62/geometries\n",
      "/home/maffe/PycharmProjects/iceboost_webapp/tiles/RGI62/geometries/02_rgi62_WesternCanadaUS_cleaned.geojson\n"
     ]
    },
    {
     "name": "stderr",
     "output_type": "stream",
     "text": [
      "18855 features, 9373068 bytes of geometry, 18871 bytes of separate metadata, 0 bytes of string pool\n",
      "Choosing a maxzoom of -z5 for features about 9117 feet (2779 meters) apart\n",
      "Choosing a maxzoom of -z11 for resolution of about 237 feet (72 meters) within features\n",
      "  99.9%  11/290/571  \n"
     ]
    },
    {
     "name": "stdout",
     "output_type": "stream",
     "text": [
      "3 /home/maffe/OGGM/rgi/RGIV62/03_rgi62_ArcticCanadaNorth/03_rgi62_ArcticCanadaNorth.shp\n",
      "/home/maffe/PycharmProjects/iceboost_webapp/tiles/RGI62/geometries\n",
      "/home/maffe/PycharmProjects/iceboost_webapp/tiles/RGI62/geometries/03_rgi62_ArcticCanadaNorth_cleaned.geojson\n"
     ]
    },
    {
     "name": "stderr",
     "output_type": "stream",
     "text": [
      "4556 features, 6013535 bytes of geometry, 4572 bytes of separate metadata, 0 bytes of string pool\n",
      "Choosing a maxzoom of -z2 for features about 74310 feet (22650 meters) apart\n",
      "Choosing a maxzoom of -z7 for resolution of about 2169 feet (661 meters) within features\n",
      "  99.9%  7/38/13  \n"
     ]
    },
    {
     "name": "stdout",
     "output_type": "stream",
     "text": [
      "4 /home/maffe/OGGM/rgi/RGIV62/04_rgi62_ArcticCanadaSouth/04_rgi62_ArcticCanadaSouth.shp\n",
      "/home/maffe/PycharmProjects/iceboost_webapp/tiles/RGI62/geometries\n",
      "/home/maffe/PycharmProjects/iceboost_webapp/tiles/RGI62/geometries/04_rgi62_ArcticCanadaSouth_cleaned.geojson\n"
     ]
    },
    {
     "name": "stderr",
     "output_type": "stream",
     "text": [
      "7415 features, 12192896 bytes of geometry, 7431 bytes of separate metadata, 0 bytes of string pool\n",
      "Choosing a maxzoom of -z4 for features about 22818 feet (6955 meters) apart\n",
      "Choosing a maxzoom of -z9 for resolution of about 504 feet (153 meters) within features\n",
      "  99.9%  9/146/101  \n"
     ]
    },
    {
     "name": "stdout",
     "output_type": "stream",
     "text": [
      "5 /home/maffe/OGGM/rgi/RGIV62/05_rgi62_GreenlandPeriphery/05_rgi62_GreenlandPeriphery.shp\n",
      "/home/maffe/PycharmProjects/iceboost_webapp/tiles/RGI62/geometries\n",
      "/home/maffe/PycharmProjects/iceboost_webapp/tiles/RGI62/geometries/05_rgi62_GreenlandPeriphery_cleaned.geojson\n"
     ]
    },
    {
     "name": "stderr",
     "output_type": "stream",
     "text": [
      "20261 features, 37334810 bytes of geometry, 20277 bytes of separate metadata, 0 bytes of string pool\n",
      "Choosing a maxzoom of -z4 for features about 25361 feet (7730 meters) apart\n",
      "Choosing a maxzoom of -z9 for resolution of about 610 feet (186 meters) within features\n",
      "  99.9%  9/155/72   \n"
     ]
    },
    {
     "name": "stdout",
     "output_type": "stream",
     "text": [
      "6 /home/maffe/OGGM/rgi/RGIV62/06_rgi62_Iceland/06_rgi62_Iceland.shp\n",
      "/home/maffe/PycharmProjects/iceboost_webapp/tiles/RGI62/geometries\n",
      "/home/maffe/PycharmProjects/iceboost_webapp/tiles/RGI62/geometries/06_rgi62_Iceland_cleaned.geojson\n"
     ]
    },
    {
     "name": "stderr",
     "output_type": "stream",
     "text": [
      "568 features, 1101928 bytes of geometry, 584 bytes of separate metadata, 0 bytes of string pool\n",
      "Choosing a maxzoom of -z4 for features about 23742 feet (7237 meters) apart\n",
      "Choosing a maxzoom of -z10 for resolution of about 339 feet (103 meters) within features\n",
      "  99.9%  10/464/272  \n"
     ]
    },
    {
     "name": "stdout",
     "output_type": "stream",
     "text": [
      "7 /home/maffe/OGGM/rgi/RGIV62/07_rgi62_Svalbard/07_rgi62_Svalbard.shp\n",
      "/home/maffe/PycharmProjects/iceboost_webapp/tiles/RGI62/geometries\n",
      "/home/maffe/PycharmProjects/iceboost_webapp/tiles/RGI62/geometries/07_rgi62_Svalbard_cleaned.geojson\n"
     ]
    },
    {
     "name": "stderr",
     "output_type": "stream",
     "text": [
      "1615 features, 2968415 bytes of geometry, 1631 bytes of separate metadata, 0 bytes of string pool\n",
      "Choosing a maxzoom of -z3 for features about 61724 feet (18814 meters) apart\n",
      "Choosing a maxzoom of -z8 for resolution of about 1086 feet (331 meters) within features\n",
      "  99.9%  8/139/35  \n"
     ]
    },
    {
     "name": "stdout",
     "output_type": "stream",
     "text": [
      "8 /home/maffe/OGGM/rgi/RGIV62/08_rgi62_Scandinavia/08_rgi62_Scandinavia.shp\n",
      "/home/maffe/PycharmProjects/iceboost_webapp/tiles/RGI62/geometries\n",
      "/home/maffe/PycharmProjects/iceboost_webapp/tiles/RGI62/geometries/08_rgi62_Scandinavia_cleaned.geojson\n"
     ]
    },
    {
     "name": "stderr",
     "output_type": "stream",
     "text": [
      "3417 features, 2021135 bytes of geometry, 3433 bytes of separate metadata, 0 bytes of string pool\n",
      "Choosing a maxzoom of -z4 for features about 17281 feet (5267 meters) apart\n",
      "Choosing a maxzoom of -z10 for resolution of about 436 feet (132 meters) within features\n",
      "  99.9%  10/565/239  \n"
     ]
    },
    {
     "name": "stdout",
     "output_type": "stream",
     "text": [
      "9 /home/maffe/OGGM/rgi/RGIV62/09_rgi62_RussianArctic/09_rgi62_RussianArctic.shp\n",
      "/home/maffe/PycharmProjects/iceboost_webapp/tiles/RGI62/geometries\n",
      "/home/maffe/PycharmProjects/iceboost_webapp/tiles/RGI62/geometries/09_rgi62_RussianArctic_cleaned.geojson\n"
     ]
    },
    {
     "name": "stderr",
     "output_type": "stream",
     "text": [
      "1069 features, 2165701 bytes of geometry, 1085 bytes of separate metadata, 0 bytes of string pool\n",
      "Choosing a maxzoom of -z2 for features about 102942 feet (31377 meters) apart\n",
      "Choosing a maxzoom of -z8 for resolution of about 1325 feet (404 meters) within features\n",
      "  99.9%  8/197/31  \n"
     ]
    },
    {
     "name": "stdout",
     "output_type": "stream",
     "text": [
      "10 /home/maffe/OGGM/rgi/RGIV62/10_rgi62_NorthAsia/10_rgi62_NorthAsia.shp\n",
      "/home/maffe/PycharmProjects/iceboost_webapp/tiles/RGI62/geometries\n",
      "/home/maffe/PycharmProjects/iceboost_webapp/tiles/RGI62/geometries/10_rgi62_NorthAsia_cleaned.geojson\n"
     ]
    },
    {
     "name": "stderr",
     "output_type": "stream",
     "text": [
      "5151 features, 2356730 bytes of geometry, 5167 bytes of separate metadata, 0 bytes of string pool\n",
      "Choosing a maxzoom of -z5 for features about 14172 feet (4320 meters) apart\n",
      "Choosing a maxzoom of -z10 for resolution of about 320 feet (97 meters) within features\n",
      "  99.9%  10/973/300   \n"
     ]
    },
    {
     "name": "stdout",
     "output_type": "stream",
     "text": [
      "11 /home/maffe/OGGM/rgi/RGIV62/11_rgi62_CentralEurope/11_rgi62_CentralEurope.shp\n",
      "/home/maffe/PycharmProjects/iceboost_webapp/tiles/RGI62/geometries\n",
      "/home/maffe/PycharmProjects/iceboost_webapp/tiles/RGI62/geometries/11_rgi62_CentralEurope_cleaned.geojson\n"
     ]
    },
    {
     "name": "stderr",
     "output_type": "stream",
     "text": [
      "3927 features, 2260884 bytes of geometry, 3943 bytes of separate metadata, 0 bytes of string pool\n",
      "Choosing a maxzoom of -z6 for features about 6337 feet (1932 meters) apart\n",
      "Choosing a maxzoom of -z11 for resolution of about 223 feet (67 meters) within features\n",
      "  99.9%  11/1067/725  \n"
     ]
    },
    {
     "name": "stdout",
     "output_type": "stream",
     "text": [
      "12 /home/maffe/OGGM/rgi/RGIV62/12_rgi62_CaucasusMiddleEast/12_rgi62_CaucasusMiddleEast.shp\n",
      "/home/maffe/PycharmProjects/iceboost_webapp/tiles/RGI62/geometries\n",
      "/home/maffe/PycharmProjects/iceboost_webapp/tiles/RGI62/geometries/12_rgi62_CaucasusMiddleEast_cleaned.geojson\n"
     ]
    },
    {
     "name": "stderr",
     "output_type": "stream",
     "text": [
      "1888 features, 1076319 bytes of geometry, 1904 bytes of separate metadata, 0 bytes of string pool\n",
      "Choosing a maxzoom of -z6 for features about 5842 feet (1781 meters) apart\n",
      "Choosing a maxzoom of -z12 for resolution of about 119 feet (36 meters) within features\n",
      "  99.9%  12/2516/1498  \n"
     ]
    },
    {
     "name": "stdout",
     "output_type": "stream",
     "text": [
      "13 /home/maffe/OGGM/rgi/RGIV62/13_rgi62_CentralAsia/13_rgi62_CentralAsia.shp\n",
      "/home/maffe/PycharmProjects/iceboost_webapp/tiles/RGI62/geometries\n",
      "/home/maffe/PycharmProjects/iceboost_webapp/tiles/RGI62/geometries/13_rgi62_CentralAsia_cleaned.geojson\n"
     ]
    },
    {
     "name": "stderr",
     "output_type": "stream",
     "text": [
      "54429 features, 26425313 bytes of geometry, 54445 bytes of separate metadata, 0 bytes of string pool\n",
      "Choosing a maxzoom of -z6 for features about 6672 feet (2034 meters) apart\n",
      "Choosing a maxzoom of -z11 for resolution of about 250 feet (76 meters) within features\n",
      "  99.9%  11/1478/817  \n"
     ]
    },
    {
     "name": "stdout",
     "output_type": "stream",
     "text": [
      "14 /home/maffe/OGGM/rgi/RGIV62/14_rgi62_SouthAsiaWest/14_rgi62_SouthAsiaWest.shp\n",
      "/home/maffe/PycharmProjects/iceboost_webapp/tiles/RGI62/geometries\n",
      "/home/maffe/PycharmProjects/iceboost_webapp/tiles/RGI62/geometries/14_rgi62_SouthAsiaWest_cleaned.geojson\n"
     ]
    },
    {
     "name": "stderr",
     "output_type": "stream",
     "text": [
      "27988 features, 18604927 bytes of geometry, 28004 bytes of separate metadata, 0 bytes of string pool\n",
      "Choosing a maxzoom of -z6 for features about 6323 feet (1927 meters) apart\n",
      "Choosing a maxzoom of -z10 for resolution of about 255 feet (77 meters) within features\n",
      "  99.9%  10/723/399  \n"
     ]
    },
    {
     "name": "stdout",
     "output_type": "stream",
     "text": [
      "15 /home/maffe/OGGM/rgi/RGIV62/15_rgi62_SouthAsiaEast/15_rgi62_SouthAsiaEast.shp\n",
      "/home/maffe/PycharmProjects/iceboost_webapp/tiles/RGI62/geometries\n",
      "/home/maffe/PycharmProjects/iceboost_webapp/tiles/RGI62/geometries/15_rgi62_SouthAsiaEast_cleaned.geojson\n"
     ]
    },
    {
     "name": "stderr",
     "output_type": "stream",
     "text": [
      "13119 features, 6345733 bytes of geometry, 13135 bytes of separate metadata, 0 bytes of string pool\n",
      "Choosing a maxzoom of -z6 for features about 6434 feet (1961 meters) apart\n",
      "Choosing a maxzoom of -z10 for resolution of about 297 feet (90 meters) within features\n",
      "  99.9%  10/784/421  \n"
     ]
    },
    {
     "name": "stdout",
     "output_type": "stream",
     "text": [
      "16 /home/maffe/OGGM/rgi/RGIV62/16_rgi62_LowLatitudes/16_rgi62_LowLatitudes.shp\n",
      "/home/maffe/PycharmProjects/iceboost_webapp/tiles/RGI62/geometries\n",
      "/home/maffe/PycharmProjects/iceboost_webapp/tiles/RGI62/geometries/16_rgi62_LowLatitudes_cleaned.geojson\n"
     ]
    },
    {
     "name": "stderr",
     "output_type": "stream",
     "text": [
      "2939 features, 1822563 bytes of geometry, 2955 bytes of separate metadata, 0 bytes of string pool\n",
      "Choosing a maxzoom of -z6 for features about 6372 feet (1943 meters) apart\n",
      "Choosing a maxzoom of -z11 for resolution of about 158 feet (48 meters) within features\n",
      "  99.9%  11/577/1033   \n"
     ]
    },
    {
     "name": "stdout",
     "output_type": "stream",
     "text": [
      "17 /home/maffe/OGGM/rgi/RGIV62/17_rgi62_SouthernAndes/17_rgi62_SouthernAndes.shp\n",
      "/home/maffe/PycharmProjects/iceboost_webapp/tiles/RGI62/geometries\n",
      "/home/maffe/PycharmProjects/iceboost_webapp/tiles/RGI62/geometries/17_rgi62_SouthernAndes_cleaned.geojson\n"
     ]
    },
    {
     "name": "stderr",
     "output_type": "stream",
     "text": [
      "15908 features, 11533813 bytes of geometry, 15924 bytes of separate metadata, 0 bytes of string pool\n",
      "Choosing a maxzoom of -z6 for features about 7989 feet (2435 meters) apart\n",
      "Choosing a maxzoom of -z11 for resolution of about 250 feet (76 meters) within features\n",
      "  99.9%  11/613/1297  \n"
     ]
    },
    {
     "name": "stdout",
     "output_type": "stream",
     "text": [
      "18 /home/maffe/OGGM/rgi/RGIV62/18_rgi62_NewZealand/18_rgi62_NewZealand.shp\n",
      "/home/maffe/PycharmProjects/iceboost_webapp/tiles/RGI62/geometries\n",
      "/home/maffe/PycharmProjects/iceboost_webapp/tiles/RGI62/geometries/18_rgi62_NewZealand_cleaned.geojson\n"
     ]
    },
    {
     "name": "stderr",
     "output_type": "stream",
     "text": [
      "3537 features, 1245612 bytes of geometry, 3553 bytes of separate metadata, 0 bytes of string pool\n",
      "Choosing a maxzoom of -z6 for features about 4327 feet (1319 meters) apart\n",
      "Choosing a maxzoom of -z11 for resolution of about 245 feet (74 meters) within features\n",
      "  99.9%  11/1997/1296  \n"
     ]
    },
    {
     "name": "stdout",
     "output_type": "stream",
     "text": [
      "19 /home/maffe/OGGM/rgi/RGIV62/19_rgi62_AntarcticSubantarctic/19_rgi62_AntarcticSubantarctic.shp\n",
      "/home/maffe/PycharmProjects/iceboost_webapp/tiles/RGI62/geometries\n",
      "/home/maffe/PycharmProjects/iceboost_webapp/tiles/RGI62/geometries/19_rgi62_AntarcticSubantarctic_cleaned.geojson\n"
     ]
    },
    {
     "name": "stderr",
     "output_type": "stream",
     "text": [
      "2752 features, 6760775 bytes of geometry, 2768 bytes of separate metadata, 0 bytes of string pool\n",
      "Choosing a maxzoom of -z4 for features about 27058 feet (8248 meters) apart\n",
      "Choosing a maxzoom of -z10 for resolution of about 355 feet (108 meters) within features\n",
      "  99.9%  10/409/698  \n"
     ]
    }
   ],
   "source": [
    "# Import .shp data and convert to .geojson\n",
    "version = '62'\n",
    "\n",
    "for rgi in range(1,20):\n",
    "\n",
    "    FILE_SHP_RGI = utils.get_rgi_region_file(region=f\"{rgi:02d}\", version=version)\n",
    "    print(rgi, FILE_SHP_RGI)\n",
    "\n",
    "    gdf = gpd.read_file(FILE_SHP_RGI)\n",
    "\n",
    "    gdf = gdf[['geometry']]\n",
    "\n",
    "    gdf_rounded = gdf.copy()\n",
    "\n",
    "    gdf_rounded['geometry'] = gdf_rounded['geometry'].apply(lambda geom: shapely.set_precision(geom, 0.00001))\n",
    "\n",
    "    \n",
    "    OUT_PATH = f\"/home/maffe/PycharmProjects/iceboost_webapp/tiles/RGI{version}/geometries\"\n",
    "\n",
    "    geojson_file = f\"{OUT_PATH}/\" + FILE_SHP_RGI.rsplit('/', 1)[-1].replace('.shp', '_cleaned.geojson')\n",
    "    print(OUT_PATH)\n",
    "    print(geojson_file)\n",
    "    gdf_rounded.to_file(geojson_file, driver='GeoJSON')\n",
    "    \n",
    "    tippecanoe_path_out = \"/home/maffe/PycharmProjects/iceboost_webapp/tiles/RGI62/geometries/\"\n",
    "    tippecanoe_file_out = f\"geoms_rgi{version}_rgi{rgi}.mbtiles\"\n",
    "    tippecanoe_out_layer_name = f\"geoms_rgi{version}_rgi{rgi}\"\n",
    "    tippecanoe_out = tippecanoe_path_out + tippecanoe_file_out\n",
    "\n",
    "    # Construct the Tippecanoe command\n",
    "    tippecanoe_command = f\"tippecanoe -o {tippecanoe_out} -l {tippecanoe_out_layer_name} -zg {geojson_file} --force\"\n",
    "\n",
    "    # Run Tippecanoe command via subprocess\n",
    "    subprocess.run(tippecanoe_command, shell=True, check=True)\n"
   ]
  },
  {
   "cell_type": "code",
   "execution_count": null,
   "id": "50da3db8-a7cb-41a0-bbc9-433b797dddd1",
   "metadata": {},
   "outputs": [],
   "source": []
  },
  {
   "cell_type": "code",
   "execution_count": null,
   "id": "a793d7ce-2734-4a72-9365-c6e0f96cfcb9",
   "metadata": {},
   "outputs": [],
   "source": []
  }
 ],
 "metadata": {
  "kernelspec": {
   "display_name": "Python 3 (ipykernel)",
   "language": "python",
   "name": "python3"
  },
  "language_info": {
   "codemirror_mode": {
    "name": "ipython",
    "version": 3
   },
   "file_extension": ".py",
   "mimetype": "text/x-python",
   "name": "python",
   "nbconvert_exporter": "python",
   "pygments_lexer": "ipython3",
   "version": "3.12.7"
  }
 },
 "nbformat": 4,
 "nbformat_minor": 5
}
