{
 "cells": [
  {
   "cell_type": "code",
   "execution_count": 1,
   "id": "fde30682-ecca-48a7-9b7a-4cafe0410385",
   "metadata": {},
   "outputs": [],
   "source": [
    "import os, glob\n",
    "import subprocess\n",
    "import tempfile\n",
    "from tqdm import tqdm\n",
    "import copy\n",
    "import time\n",
    "import numpy as np\n",
    "import matplotlib.pyplot as plt\n",
    "import pandas as pd\n",
    "import geopandas as gpd\n",
    "import xarray as xr\n",
    "import rioxarray\n",
    "from rioxarray import merge\n",
    "from osgeo import gdal\n",
    "from joblib import Parallel, delayed\n",
    "from oggm import utils\n",
    "import gzip\n",
    "import json\n",
    "import topojson\n",
    "import shapely\n",
    "from shapely.geometry import Polygon, MultiPolygon\n",
    "from shapely.wkt import loads, dumps"
   ]
  },
  {
   "cell_type": "code",
   "execution_count": 8,
   "id": "70a5b40f-625d-42b5-9fcb-3e1d30e3a9af",
   "metadata": {},
   "outputs": [],
   "source": [
    "# RGI\n",
    "#version = '62'\n",
    "version = '70G'\n",
    "OUT_PATH = f\"/home/maffe/PycharmProjects/iceboost_webapp/tiles/RGI{version}/geometries\""
   ]
  },
  {
   "cell_type": "code",
   "execution_count": null,
   "id": "dfab1765-1f93-4c1c-9cce-73c14836a03b",
   "metadata": {},
   "outputs": [],
   "source": [
    "list_gdfs = []\n",
    "\n",
    "for rgi in range(1,20):\n",
    "\n",
    "    FILE_SHP_RGI = utils.get_rgi_region_file(region=f\"{rgi:02d}\", version=version)\n",
    "    print(rgi, FILE_SHP_RGI)\n",
    "\n",
    "    gdf = gpd.read_file(FILE_SHP_RGI)\n",
    "\n",
    "    gdf = gdf[['geometry']]\n",
    "\n",
    "    gdf_rounded = gdf.copy()\n",
    "\n",
    "    gdf_rounded['geometry'] = gdf_rounded['geometry'].apply(lambda geom: shapely.set_precision(geom, 0.00001))\n",
    "\n",
    "    list_gdfs.append(gdf_rounded)\n",
    "\n",
    "print('Combining geodataframes')\n",
    "combined_gdf = pd.concat(list_gdfs, ignore_index=True)\n",
    "print('Done.')\n",
    "\n",
    "print('Creating geojson')\n",
    "geojson_file = f\"{OUT_PATH}/all_geometries_rgi{version}_cleaned.geojson\"\n",
    "print(OUT_PATH)\n",
    "print(geojson_file)\n",
    "\n",
    "combined_gdf.to_file(geojson_file, driver='GeoJSON')\n",
    "\n",
    "tippecanoe_path_out = f\"/home/maffe/PycharmProjects/iceboost_webapp/tiles/RGI{version}/geometries/\"\n",
    "tippecanoe_file_out = f\"geoms_rgi{version}.mbtiles\"\n",
    "tippecanoe_out_layer_name = f\"geoms_rgi{version}\"\n",
    "tippecanoe_out = tippecanoe_path_out + tippecanoe_file_out\n",
    "\n",
    "# Construct the Tippecanoe command\n",
    "tippecanoe_command = f\"tippecanoe -o {tippecanoe_out} -l {tippecanoe_out_layer_name} -zg {geojson_file} --force\"\n",
    "\n",
    "# Run Tippecanoe command via subprocess\n",
    "subprocess.run(tippecanoe_command, shell=True, check=True)\n",
    "\n",
    "# remove geojson_file\n",
    "os.remove(geojson_file)\n",
    "print(\"Deleted: \", geojson_file)"
   ]
  },
  {
   "cell_type": "code",
   "execution_count": 15,
   "id": "a793d7ce-2734-4a72-9365-c6e0f96cfcb9",
   "metadata": {},
   "outputs": [],
   "source": [
    "# Antarctic Peninsula"
   ]
  },
  {
   "cell_type": "code",
   "execution_count": 14,
   "id": "21ee521c-fd08-46b7-a3d7-867c9c0a117d",
   "metadata": {},
   "outputs": [
    {
     "name": "stdout",
     "output_type": "stream",
     "text": [
      "Creating geojson\n",
      "/media/maffe/nvme/Antarctic_peninsula_geometries/final_product/\n",
      "/media/maffe/nvme/Antarctic_peninsula_geometries/final_product/peninsula_cleaned.geojson\n"
     ]
    },
    {
     "name": "stderr",
     "output_type": "stream",
     "text": [
      "/media/maffe/nvme/Antarctic_peninsula_geometries/final_product/peninsula_cleaned.geojson:6: ignoring dimensions beyond two\n",
      "In JSON object [-65.53776,-69.10115,0.0]\n",
      "In JSON object {\"type\":\"Feature\",\"properties\":{},\"geometry\":{\"type\":\"Polygon\",\"coordinates\":[[[-65.53776,-69.10115,0.0],[-65.13818,-69.57178,0.0],[-65.12908,-69.97426,0.0],[-65.13762,-69.97499,0.0],[-65.14062,-69.97524,0.0],[-65.15664,-69.97497,0.0],[-65.18098,-69.97296,0.0],[-65.20441,-69.97105,0.0],[-65.21229,-69.971,0.0],[-65.22921,-69.97089,0.0],[-65.24442,-69.97176,0.0],[-65.26654,-69.97526,0.0],[-65.30536,-69.9824,0.0],[-65.3194,-69.98461,0.0],[-65.32319,-69.98521,0.0],[-65.33975,-69.9873,0.0],[-65.35...\n",
      "23 features, 1999786 bytes of geometry, 39 bytes of separate metadata, 0 bytes of string pool\n",
      "Choosing a maxzoom of -z0 for features about 826875 feet (252032 meters) apart\n",
      "Choosing a maxzoom of -z9 for resolution of about 533 feet (162 meters) within features\n",
      "  59.9%  5/10/23  \r"
     ]
    },
    {
     "name": "stdout",
     "output_type": "stream",
     "text": [
      "Deleted:  /media/maffe/nvme/Antarctic_peninsula_geometries/final_product/peninsula_cleaned.geojson\n"
     ]
    },
    {
     "name": "stderr",
     "output_type": "stream",
     "text": [
      "  99.9%  9/162/382  \n"
     ]
    }
   ],
   "source": [
    "PENINSULA_PATH = f\"/media/maffe/nvme/Antarctic_peninsula_geometries/final_product/\"\n",
    "\n",
    "peninsula = gpd.read_file(PENINSULA_PATH+\"antarctic_peninsula.shp\")\n",
    "\n",
    "peninsula = peninsula[['geometry']]\n",
    "\n",
    "peninsula_rounded = peninsula.copy()\n",
    "\n",
    "peninsula_rounded['geometry'] = peninsula_rounded['geometry'].apply(lambda geom: shapely.set_precision(geom, 0.00001))\n",
    "\n",
    "print('Creating geojson')\n",
    "geojson_file = f\"{PENINSULA_PATH}peninsula_cleaned.geojson\"\n",
    "print(PENINSULA_PATH)\n",
    "print(geojson_file)\n",
    "\n",
    "peninsula_rounded.to_file(geojson_file, driver='GeoJSON')\n",
    "\n",
    "tippecanoe_path_out = f\"{PENINSULA_PATH}\"\n",
    "tippecanoe_file_out = f\"peninsula.mbtiles\"\n",
    "tippecanoe_out_layer_name = f\"peninsula\"\n",
    "tippecanoe_out = tippecanoe_path_out + tippecanoe_file_out\n",
    "\n",
    "# Construct the Tippecanoe command\n",
    "tippecanoe_command = f\"tippecanoe -o {tippecanoe_out} -l {tippecanoe_out_layer_name} -zg {geojson_file} --force\"\n",
    "\n",
    "# Run Tippecanoe command via subprocess\n",
    "subprocess.run(tippecanoe_command, shell=True, check=True)\n",
    "\n",
    "# remove geojson_file\n",
    "os.remove(geojson_file)\n",
    "print(\"Deleted: \", geojson_file)"
   ]
  },
  {
   "cell_type": "code",
   "execution_count": null,
   "id": "c9faa2b2-2bc8-4c29-9283-4a7579b24830",
   "metadata": {},
   "outputs": [],
   "source": []
  }
 ],
 "metadata": {
  "kernelspec": {
   "display_name": "Python 3 (ipykernel)",
   "language": "python",
   "name": "python3"
  },
  "language_info": {
   "codemirror_mode": {
    "name": "ipython",
    "version": 3
   },
   "file_extension": ".py",
   "mimetype": "text/x-python",
   "name": "python",
   "nbconvert_exporter": "python",
   "pygments_lexer": "ipython3",
   "version": "3.12.7"
  }
 },
 "nbformat": 4,
 "nbformat_minor": 5
}
