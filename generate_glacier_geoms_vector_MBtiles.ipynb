{
 "cells": [
  {
   "cell_type": "code",
   "execution_count": 1,
   "id": "fde30682-ecca-48a7-9b7a-4cafe0410385",
   "metadata": {},
   "outputs": [],
   "source": [
    "import os, glob\n",
    "import subprocess\n",
    "import tempfile\n",
    "from tqdm import tqdm\n",
    "import copy\n",
    "import time\n",
    "import numpy as np\n",
    "import matplotlib.pyplot as plt\n",
    "import pandas as pd\n",
    "import geopandas as gpd\n",
    "import xarray as xr\n",
    "import rioxarray\n",
    "from pyproj import Proj, Transformer, Geod\n",
    "from rioxarray import merge\n",
    "from osgeo import gdal\n",
    "from joblib import Parallel, delayed\n",
    "from oggm import utils\n",
    "import gzip\n",
    "import json\n",
    "import topojson\n",
    "import shapely\n",
    "from shapely.geometry import Polygon, MultiPolygon\n",
    "from shapely.wkt import loads, dumps"
   ]
  },
  {
   "cell_type": "code",
   "execution_count": 16,
   "id": "70a5b40f-625d-42b5-9fcb-3e1d30e3a9af",
   "metadata": {},
   "outputs": [],
   "source": [
    "# RGI\n",
    "#version = '62'\n",
    "version = '70G'\n",
    "if version == '62':\n",
    "    name_rgi_id = 'RGIId'\n",
    "    name_column_area = 'Area'\n",
    "    name_column_name = 'Name'\n",
    "elif version == '70G':\n",
    "    name_rgi_id = 'rgi_id'\n",
    "    name_column_area = 'area_km2'\n",
    "    name_column_name = 'glac_name'\n",
    "else: raise ValueError('Version is wrong. Ciao')\n",
    "OUT_PATH = f\"/home/maffe/PycharmProjects/iceboost_webapp\""
   ]
  },
  {
   "cell_type": "code",
   "execution_count": 17,
   "id": "dfab1765-1f93-4c1c-9cce-73c14836a03b",
   "metadata": {},
   "outputs": [
    {
     "name": "stdout",
     "output_type": "stream",
     "text": [
      "1 /home/maffe/OGGM/rgi/RGIV70G/RGI2000-v7.0-G-01_alaska/RGI2000-v7.0-G-01_alaska.shp\n",
      "2 /home/maffe/OGGM/rgi/RGIV70G/RGI2000-v7.0-G-02_western_canada_usa/RGI2000-v7.0-G-02_western_canada_usa.shp\n",
      "3 /home/maffe/OGGM/rgi/RGIV70G/RGI2000-v7.0-G-03_arctic_canada_north/RGI2000-v7.0-G-03_arctic_canada_north.shp\n",
      "4 /home/maffe/OGGM/rgi/RGIV70G/RGI2000-v7.0-G-04_arctic_canada_south/RGI2000-v7.0-G-04_arctic_canada_south.shp\n",
      "5 /home/maffe/OGGM/rgi/RGIV70G/RGI2000-v7.0-G-05_greenland_periphery/RGI2000-v7.0-G-05_greenland_periphery.shp\n",
      "6 /home/maffe/OGGM/rgi/RGIV70G/RGI2000-v7.0-G-06_iceland/RGI2000-v7.0-G-06_iceland.shp\n",
      "7 /home/maffe/OGGM/rgi/RGIV70G/RGI2000-v7.0-G-07_svalbard_jan_mayen/RGI2000-v7.0-G-07_svalbard_jan_mayen.shp\n",
      "8 /home/maffe/OGGM/rgi/RGIV70G/RGI2000-v7.0-G-08_scandinavia/RGI2000-v7.0-G-08_scandinavia.shp\n",
      "9 /home/maffe/OGGM/rgi/RGIV70G/RGI2000-v7.0-G-09_russian_arctic/RGI2000-v7.0-G-09_russian_arctic.shp\n",
      "10 /home/maffe/OGGM/rgi/RGIV70G/RGI2000-v7.0-G-10_north_asia/RGI2000-v7.0-G-10_north_asia.shp\n",
      "11 /home/maffe/OGGM/rgi/RGIV70G/RGI2000-v7.0-G-11_central_europe/RGI2000-v7.0-G-11_central_europe.shp\n",
      "12 /home/maffe/OGGM/rgi/RGIV70G/RGI2000-v7.0-G-12_caucasus_middle_east/RGI2000-v7.0-G-12_caucasus_middle_east.shp\n",
      "13 /home/maffe/OGGM/rgi/RGIV70G/RGI2000-v7.0-G-13_central_asia/RGI2000-v7.0-G-13_central_asia.shp\n",
      "14 /home/maffe/OGGM/rgi/RGIV70G/RGI2000-v7.0-G-14_south_asia_west/RGI2000-v7.0-G-14_south_asia_west.shp\n",
      "15 /home/maffe/OGGM/rgi/RGIV70G/RGI2000-v7.0-G-15_south_asia_east/RGI2000-v7.0-G-15_south_asia_east.shp\n",
      "16 /home/maffe/OGGM/rgi/RGIV70G/RGI2000-v7.0-G-16_low_latitudes/RGI2000-v7.0-G-16_low_latitudes.shp\n",
      "17 /home/maffe/OGGM/rgi/RGIV70G/RGI2000-v7.0-G-17_southern_andes/RGI2000-v7.0-G-17_southern_andes.shp\n",
      "18 /home/maffe/OGGM/rgi/RGIV70G/RGI2000-v7.0-G-18_new_zealand/RGI2000-v7.0-G-18_new_zealand.shp\n",
      "19 /home/maffe/OGGM/rgi/RGIV70G/RGI2000-v7.0-G-19_subantarctic_antarctic_islands/RGI2000-v7.0-G-19_subantarctic_antarctic_islands.shp\n",
      "Combining geodataframes\n",
      "Done.\n",
      "Creating geojson\n",
      "/home/maffe/PycharmProjects/iceboost_webapp/tiles/RGI70G/geometries\n",
      "/home/maffe/PycharmProjects/iceboost_webapp/tiles/RGI70G/geometries/all_geometries_rgi70G_cleaned.geojson\n"
     ]
    },
    {
     "name": "stderr",
     "output_type": "stream",
     "text": [
      "/home/maffe/PycharmProjects/iceboost_webapp/tiles/RGI70G/geometries/all_geometries_rgi70G_cleaned.geojson:6: ignoring dimensions beyond two\n",
      "In JSON object [-155.90416,67.41608,0.0]\n",
      "In JSON object {\"type\":\"Feature\",\"properties\":{\"rgi_id\":\"RGI2000-v7.0-G-01-00001\",\"name\":null,\"area\":0.23919916103073499},\"geometry\":{\"type\":\"Polygon\",\"coordinates\":[[[-155.90416,67.41608,0.0],[-155.90345,67.41584,0.0],[-155.90295,67.41566,0.0],[-155.90235,67.41546,0.0],[-155.90175,67.41528,0.0],[-155.9015,67.41517,0.0],[-155.90115,67.41496,0.0],[-155.90111,67.41491,0.0],[-155.90097,67.4147,0.0],[-155.90096,67.41446,0.0],[-155.901,67.41426,0.0],[-155.90127,67.41409,0.0],[-155.90163,67.41396,0.0],[-155.90208...\n",
      "274531 features, 203410191 bytes of geometry, 3694498 bytes of separate metadata, 12492526 bytes of string pool\n",
      "Choosing a maxzoom of -z6 for features about 7975 feet (2431 meters) apart\n",
      "Choosing a maxzoom of -z10 for resolution of about 323 feet (98 meters) within features\n",
      "tile 4/11/6 size is 681287 with detail 12, >500000    \n",
      "tile 5/22/12 size is 940442 with detail 12, >500000    \n",
      "tile 6/45/25 size is 735885 with detail 12, >500000    \n",
      "  99.9%  10/737/401  \n"
     ]
    },
    {
     "name": "stdout",
     "output_type": "stream",
     "text": [
      "Deleted:  /home/maffe/PycharmProjects/iceboost_webapp/tiles/RGI70G/geometries/all_geometries_rgi70G_cleaned.geojson\n"
     ]
    }
   ],
   "source": [
    "list_gdfs = []\n",
    "\n",
    "for rgi in range(1,20):\n",
    "\n",
    "    FILE_SHP_RGI = utils.get_rgi_region_file(region=f\"{rgi:02d}\", version=version)\n",
    "    print(rgi, FILE_SHP_RGI)\n",
    "\n",
    "    gdf = gpd.read_file(FILE_SHP_RGI)\n",
    "\n",
    "    gdf = gdf[[name_rgi_id, name_column_name, name_column_area, 'geometry']]\n",
    "\n",
    "    gdf.rename(columns={\n",
    "        name_rgi_id: 'rgi_id',\n",
    "        name_column_name: 'name',\n",
    "        name_column_area: 'area'\n",
    "    }, inplace=True)\n",
    "    \n",
    "    #if name_rgi_id == 'RGIId':\n",
    "    #    gdf.rename(columns={'RGIId': 'rgi_id'}, inplace=True)\n",
    "\n",
    "    gdf_rounded = gdf.copy()\n",
    "\n",
    "    gdf_rounded['geometry'] = gdf_rounded['geometry'].apply(lambda geom: shapely.set_precision(geom, 0.00001))\n",
    "\n",
    "    list_gdfs.append(gdf_rounded)\n",
    "\n",
    "print('Combining geodataframes')\n",
    "combined_gdf = pd.concat(list_gdfs, ignore_index=True)\n",
    "print('Done.')\n",
    "\n",
    "print('Creating geojson')\n",
    "geojson_file = f\"{OUT_PATH}/all_geometries_rgi{version}_cleaned.geojson\"\n",
    "print(OUT_PATH)\n",
    "print(geojson_file)\n",
    "\n",
    "combined_gdf.to_file(geojson_file, driver='GeoJSON')\n",
    "\n",
    "tippecanoe_path_out = f\"/home/maffe/PycharmProjects/iceboost_webapp/tiles/RGI{version}/geometries/\"\n",
    "tippecanoe_file_out = f\"geoms_rgi{version}.mbtiles\"\n",
    "tippecanoe_out_layer_name = f\"geoms_rgi{version}\"\n",
    "tippecanoe_out = tippecanoe_path_out + tippecanoe_file_out\n",
    "\n",
    "# Construct the Tippecanoe command\n",
    "tippecanoe_command = f\"tippecanoe -o {tippecanoe_out} -l {tippecanoe_out_layer_name} -zg {geojson_file} --force --preserve-input-order\"\n",
    "\n",
    "# Run Tippecanoe command via subprocess\n",
    "subprocess.run(tippecanoe_command, shell=True, check=True)\n",
    "\n",
    "# remove geojson_file\n",
    "os.remove(geojson_file)\n",
    "print(\"Deleted: \", geojson_file)"
   ]
  },
  {
   "cell_type": "code",
   "execution_count": 15,
   "id": "a793d7ce-2734-4a72-9365-c6e0f96cfcb9",
   "metadata": {},
   "outputs": [],
   "source": [
    "# Antarctic Peninsula"
   ]
  },
  {
   "cell_type": "code",
   "execution_count": 15,
   "id": "21ee521c-fd08-46b7-a3d7-867c9c0a117d",
   "metadata": {},
   "outputs": [
    {
     "name": "stdout",
     "output_type": "stream",
     "text": [
      "Creating geojson\n",
      "/media/maffe/nvme/antarctic_peninsula_from_bedmachinev4/\n",
      "/media/maffe/nvme/antarctic_peninsula_from_bedmachinev4/peninsula_cleaned.geojson\n",
      "Deleted:  /media/maffe/nvme/antarctic_peninsula_from_bedmachinev4/peninsula_cleaned.geojson\n"
     ]
    },
    {
     "name": "stderr",
     "output_type": "stream",
     "text": [
      "50 features, 546985 bytes of geometry, 66 bytes of separate metadata, 0 bytes of string pool\n",
      "Choosing a maxzoom of -z0 for features about 1086978 feet (331311 meters) apart\n",
      "Choosing a maxzoom of -z5 for resolution of about 8538 feet (2602 meters) within features\n",
      "  95.8%  5/10/24  \n"
     ]
    }
   ],
   "source": [
    "from shapely.validation import make_valid\n",
    "from shapely.validation import explain_validity\n",
    "\n",
    "#PENINSULA_PATH = f\"/media/maffe/nvme/Antarctic_peninsula_geometries/final_product/\"\n",
    "PENINSULA_PATH = f\"/media/maffe/nvme/antarctic_peninsula_from_bedmachinev4/\"\n",
    "\n",
    "peninsula = gpd.read_file(PENINSULA_PATH+\"antarctic_peninsula.shp\")\n",
    "\n",
    "if not peninsula.crs == \"EPSG:4326\":\n",
    "    peninsula = peninsula.to_crs(\"EPSG:4326\")\n",
    "\n",
    "peninsula = peninsula[['geometry']]\n",
    "\n",
    "# correct some geometries\n",
    "peninsula['geometry'] = peninsula['geometry'].apply(\n",
    "    lambda geom: make_valid(geom) if not geom.is_valid else geom\n",
    ")\n",
    "\n",
    "peninsula_rounded = peninsula.copy()\n",
    "\n",
    "#n_invalid_before = (~peninsula_rounded.is_valid).sum()\n",
    "#invalid_geoms = peninsula_rounded.loc[~peninsula_rounded.is_valid, 'geometry']\n",
    "#reasons = invalid_geoms.apply(explain_validity)\n",
    "#for idx, reason in reasons.items():\n",
    "#    print(f\"Index {idx}: {reason}\")\n",
    "#print(n_invalid_before)\n",
    "#input('wait')\n",
    "\n",
    "peninsula_rounded['geometry'] = peninsula_rounded['geometry'].apply(lambda geom: shapely.set_precision(geom, 0.00001))\n",
    "\n",
    "print('Creating geojson')\n",
    "geojson_file = f\"{PENINSULA_PATH}peninsula_cleaned.geojson\"\n",
    "print(PENINSULA_PATH)\n",
    "print(geojson_file)\n",
    "\n",
    "peninsula_rounded.to_file(geojson_file, driver='GeoJSON')\n",
    "\n",
    "tippecanoe_path_out = f\"{PENINSULA_PATH}\"\n",
    "tippecanoe_file_out = f\"peninsula.mbtiles\"\n",
    "tippecanoe_out_layer_name = f\"peninsula\"\n",
    "tippecanoe_out = tippecanoe_path_out + tippecanoe_file_out\n",
    "\n",
    "# Construct the Tippecanoe command\n",
    "tippecanoe_command = f\"tippecanoe -o {tippecanoe_out} -l {tippecanoe_out_layer_name} -zg {geojson_file} --force\"\n",
    "\n",
    "# Run Tippecanoe command via subprocess\n",
    "subprocess.run(tippecanoe_command, shell=True, check=True)\n",
    "\n",
    "# remove geojson_file\n",
    "os.remove(geojson_file)\n",
    "print(\"Deleted: \", geojson_file)"
   ]
  },
  {
   "cell_type": "code",
   "execution_count": null,
   "id": "c9faa2b2-2bc8-4c29-9283-4a7579b24830",
   "metadata": {},
   "outputs": [],
   "source": []
  }
 ],
 "metadata": {
  "kernelspec": {
   "display_name": "Python 3 (ipykernel)",
   "language": "python",
   "name": "python3"
  },
  "language_info": {
   "codemirror_mode": {
    "name": "ipython",
    "version": 3
   },
   "file_extension": ".py",
   "mimetype": "text/x-python",
   "name": "python",
   "nbconvert_exporter": "python",
   "pygments_lexer": "ipython3",
   "version": "3.12.7"
  }
 },
 "nbformat": 4,
 "nbformat_minor": 5
}
